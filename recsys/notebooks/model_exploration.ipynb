{
 "cells": [
  {
   "cell_type": "markdown",
   "id": "77e38ac0",
   "metadata": {},
   "source": [
    "## Explore each model approach manually"
   ]
  },
  {
   "cell_type": "markdown",
   "id": "f76659f1",
   "metadata": {},
   "source": []
  }
 ],
 "metadata": {
  "language_info": {
   "name": "python"
  }
 },
 "nbformat": 4,
 "nbformat_minor": 5
}
